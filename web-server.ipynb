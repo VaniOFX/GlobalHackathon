{
 "cells": [
  {
   "cell_type": "code",
   "execution_count": 4,
   "metadata": {},
   "outputs": [
    {
     "name": "stderr",
     "output_type": "stream",
     "text": [
      "INFO: Started server process [12150]\n",
      "INFO: Waiting for application startup.\n",
      "INFO: Uvicorn running on http://0.0.0.0:1997 (Press CTRL+C to quit)\n",
      "INFO: ('127.0.0.1', 49618) - \"GET /getText HTTP/1.1\" 200\n",
      "INFO: Shutting down\n",
      "INFO: Waiting for application shutdown.\n",
      "INFO: Finished server process [12150]\n"
     ]
    }
   ],
   "source": [
    "import requests\n",
    "from starlette.applications import Starlette\n",
    "from starlette.responses import HTMLResponse, JSONResponse\n",
    "from starlette.middleware.cors import CORSMiddleware\n",
    "import uvicorn, aiohttp, asyncio\n",
    "\n",
    "# application init\n",
    "app = Starlette()\n",
    "app.add_middleware(CORSMiddleware, allow_origins=['*'], allow_headers=['X-Requested-With', 'Content-Type'])\n",
    "\n",
    "subscription_key = \"1de9548a300042d1a8c5bf4d1f8233b6\"\n",
    "vision_base_url = \"https://westcentralus.api.cognitive.microsoft.com/vision/v2.0/\"\n",
    "text_recognition_url = vision_base_url + \"read/core/asyncBatchAnalyze\"\n",
    "headers = {'Ocp-Apim-Subscription-Key': subscription_key}\n",
    "\n",
    "@app.route('/')\n",
    "def index(request):\n",
    "    return HTMLResponse(\"Hello World\")\n",
    "\n",
    "@app.route('/getText')\n",
    "def get_text(request):\n",
    "    image_url = \"https://scontent-lhr3-1.xx.fbcdn.net/v/t1.15752-9/65304028_496860071052571_3668876263856013312_n.jpg?_nc_cat=107&_nc_oc=AQmebaMYcefPNM_P3tVkM6Al1uZ1pGVWKXUhJ9r8UKXphn3zBOAXQMfVWHlB3nUJ5zE&_nc_ht=scontent-lhr3-1.xx&oh=44645c041897dab105c0570f0dcde710&oe=5D81B173\"\n",
    "    data = {'url': image_url}\n",
    "    response = requests.post(\n",
    "        text_recognition_url,\n",
    "        headers=headers,\n",
    "        json=data)\n",
    "    \n",
    "    response.raise_for_status()\n",
    "    analysis = {}\n",
    "    poll = True\n",
    "    \n",
    "    while (poll):\n",
    "        response_final = requests.get(response.headers[\"Operation-Location\"], headers=headers)\n",
    "        analysis = response_final.json()\n",
    "\n",
    "        if (\"recognitionResults\" in analysis):\n",
    "            poll = False\n",
    "        if (\"status\" in analysis and analysis['status'] == 'Failed'):\n",
    "            poll = False\n",
    "    \n",
    "    if (\"recognitionResults\" in analysis):\n",
    "        texts = [line[\"text\"] for line in analysis[\"recognitionResults\"][0][\"lines\"]]\n",
    "    \n",
    "    return HTMLResponse(str(texts))\n",
    "\n",
    "\n",
    "\n",
    "\n",
    "if __name__ == '__main__':\n",
    "    uvicorn.run(app=app, host='0.0.0.0', port=1997)"
   ]
  },
  {
   "cell_type": "code",
   "execution_count": null,
   "metadata": {},
   "outputs": [],
   "source": []
  }
 ],
 "metadata": {
  "kernelspec": {
   "display_name": "Python 3",
   "language": "python",
   "name": "python3"
  },
  "language_info": {
   "codemirror_mode": {
    "name": "ipython",
    "version": 3
   },
   "file_extension": ".py",
   "mimetype": "text/x-python",
   "name": "python",
   "nbconvert_exporter": "python",
   "pygments_lexer": "ipython3",
   "version": "3.6.8"
  }
 },
 "nbformat": 4,
 "nbformat_minor": 2
}
